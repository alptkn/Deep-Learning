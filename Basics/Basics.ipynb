{
 "cells": [
  {
   "cell_type": "code",
   "execution_count": 1,
   "metadata": {},
   "outputs": [
    {
     "name": "stdout",
     "output_type": "stream",
     "text": [
      "1.6.0\n"
     ]
    }
   ],
   "source": [
    "import numpy as np \n",
    "import torch \n",
    "torch.manual_seed(1)\n",
    "print(torch.__version__)"
   ]
  },
  {
   "cell_type": "code",
   "execution_count": 3,
   "metadata": {},
   "outputs": [
    {
     "data": {
      "text/plain": [
       "tensor([[4.6837e-39, 5.9694e-39],\n",
       "        [8.9082e-39, 1.0194e-38]])"
      ]
     },
     "execution_count": 3,
     "metadata": {},
     "output_type": "execute_result"
    }
   ],
   "source": [
    "x = torch.Tensor(2,2)\n",
    "x"
   ]
  },
  {
   "cell_type": "code",
   "execution_count": 4,
   "metadata": {},
   "outputs": [
    {
     "data": {
      "text/plain": [
       "('torch.FloatTensor', torch.Size([2, 2]), 4)"
      ]
     },
     "execution_count": 4,
     "metadata": {},
     "output_type": "execute_result"
    }
   ],
   "source": [
    "x.type(), x.size(), x.numel()"
   ]
  },
  {
   "cell_type": "code",
   "execution_count": 8,
   "metadata": {},
   "outputs": [
    {
     "data": {
      "text/plain": [
       "tensor([[[[1.0561e-38],\n",
       "          [1.0653e-38]],\n",
       "\n",
       "         [[4.1327e-39],\n",
       "          [8.9082e-39]],\n",
       "\n",
       "         [[9.8265e-39],\n",
       "          [9.4592e-39]]],\n",
       "\n",
       "\n",
       "        [[[1.0561e-38],\n",
       "          [9.7347e-39]],\n",
       "\n",
       "         [[9.1837e-39],\n",
       "          [8.4490e-39]],\n",
       "\n",
       "         [[1.0286e-38],\n",
       "          [8.4490e-39]]],\n",
       "\n",
       "\n",
       "        [[[9.2755e-39],\n",
       "          [8.9082e-39]],\n",
       "\n",
       "         [[1.0653e-38],\n",
       "          [1.0469e-38]],\n",
       "\n",
       "         [[1.0102e-38],\n",
       "          [8.4490e-39]]],\n",
       "\n",
       "\n",
       "        [[[8.7245e-39],\n",
       "          [1.0102e-38]],\n",
       "\n",
       "         [[1.0653e-38],\n",
       "          [8.7245e-39]],\n",
       "\n",
       "         [[1.0286e-38],\n",
       "          [1.6956e-43]]]])"
      ]
     },
     "execution_count": 8,
     "metadata": {},
     "output_type": "execute_result"
    }
   ],
   "source": [
    "x2 = torch.Tensor(4,3,2,1)\n",
    "x2"
   ]
  },
  {
   "cell_type": "code",
   "execution_count": 10,
   "metadata": {},
   "outputs": [
    {
     "data": {
      "text/plain": [
       "('torch.FloatTensor', torch.Size([4, 3, 2, 1]), 24)"
      ]
     },
     "execution_count": 10,
     "metadata": {},
     "output_type": "execute_result"
    }
   ],
   "source": [
    "x2.type(), x2.size(), x2.numel()"
   ]
  },
  {
   "cell_type": "code",
   "execution_count": 11,
   "metadata": {},
   "outputs": [
    {
     "data": {
      "text/plain": [
       "tensor([[0., 0., 0., 0.],\n",
       "        [0., 0., 0., 0.],\n",
       "        [0., 0., 0., 0.],\n",
       "        [0., 0., 0., 0.]])"
      ]
     },
     "execution_count": 11,
     "metadata": {},
     "output_type": "execute_result"
    }
   ],
   "source": [
    "torch.zeros(4,4)"
   ]
  },
  {
   "cell_type": "code",
   "execution_count": 12,
   "metadata": {},
   "outputs": [
    {
     "data": {
      "text/plain": [
       "tensor([[1., 1., 1., 1.],\n",
       "        [1., 1., 1., 1.],\n",
       "        [1., 1., 1., 1.],\n",
       "        [1., 1., 1., 1.]])"
      ]
     },
     "execution_count": 12,
     "metadata": {},
     "output_type": "execute_result"
    }
   ],
   "source": [
    "torch.ones(4,4)"
   ]
  },
  {
   "cell_type": "code",
   "execution_count": 13,
   "metadata": {},
   "outputs": [
    {
     "data": {
      "text/plain": [
       "tensor([[1., 0., 0., 0.],\n",
       "        [0., 1., 0., 0.],\n",
       "        [0., 0., 1., 0.],\n",
       "        [0., 0., 0., 1.]])"
      ]
     },
     "execution_count": 13,
     "metadata": {},
     "output_type": "execute_result"
    }
   ],
   "source": [
    "torch.eye(4,4)"
   ]
  },
  {
   "cell_type": "code",
   "execution_count": 14,
   "metadata": {},
   "outputs": [
    {
     "data": {
      "text/plain": [
       "tensor([[0.7576, 0.2793, 0.4031, 0.7347],\n",
       "        [0.0293, 0.7999, 0.3971, 0.7544],\n",
       "        [0.5695, 0.4388, 0.6387, 0.5247],\n",
       "        [0.6826, 0.3051, 0.4635, 0.4550]])"
      ]
     },
     "execution_count": 14,
     "metadata": {},
     "output_type": "execute_result"
    }
   ],
   "source": [
    "torch.rand(4,4)"
   ]
  },
  {
   "cell_type": "code",
   "execution_count": 15,
   "metadata": {},
   "outputs": [
    {
     "data": {
      "text/plain": [
       "tensor([[-0.6970, -1.1608,  0.6995,  0.1991],\n",
       "        [ 0.8657,  0.2444, -0.6629,  0.8073],\n",
       "        [ 1.1017, -0.1759, -2.2456, -1.4465],\n",
       "        [ 0.0612, -0.6177, -0.7981, -0.1316]])"
      ]
     },
     "execution_count": 15,
     "metadata": {},
     "output_type": "execute_result"
    }
   ],
   "source": [
    "torch.randn(4,4)"
   ]
  },
  {
   "cell_type": "code",
   "execution_count": 17,
   "metadata": {},
   "outputs": [
    {
     "data": {
      "text/plain": [
       "tensor([0.0000, 0.3000, 0.6000, 0.9000, 1.2000, 1.5000, 1.8000, 2.1000, 2.4000,\n",
       "        2.7000])"
      ]
     },
     "execution_count": 17,
     "metadata": {},
     "output_type": "execute_result"
    }
   ],
   "source": [
    "x3 = torch.arange(0,3,0.3)\n",
    "x3"
   ]
  },
  {
   "cell_type": "code",
   "execution_count": 19,
   "metadata": {},
   "outputs": [
    {
     "data": {
      "text/plain": [
       "tensor([[6., 2.],\n",
       "        [3., 4.],\n",
       "        [5., 6.]])"
      ]
     },
     "execution_count": 19,
     "metadata": {},
     "output_type": "execute_result"
    }
   ],
   "source": [
    "torch.Tensor([[6,2],[3,4],[5,6]])"
   ]
  },
  {
   "cell_type": "code",
   "execution_count": 21,
   "metadata": {},
   "outputs": [
    {
     "data": {
      "text/plain": [
       "tensor([[ 5,  6],\n",
       "        [10, 11]], dtype=torch.int32)"
      ]
     },
     "execution_count": 21,
     "metadata": {},
     "output_type": "execute_result"
    }
   ],
   "source": [
    "numpy_test = np.array([[5,6],[10,11]])\n",
    "torch.from_numpy(numpy_test)"
   ]
  },
  {
   "cell_type": "code",
   "execution_count": 22,
   "metadata": {},
   "outputs": [
    {
     "data": {
      "text/plain": [
       "tensor([[1., 2., 3.],\n",
       "        [4., 5., 6.],\n",
       "        [7., 8., 9.]])"
      ]
     },
     "execution_count": 22,
     "metadata": {},
     "output_type": "execute_result"
    }
   ],
   "source": [
    "x4 = torch.Tensor([[1,2,3],[4,5,6],[7,8,9]])\n",
    "x4"
   ]
  },
  {
   "cell_type": "code",
   "execution_count": 23,
   "metadata": {},
   "outputs": [
    {
     "data": {
      "text/plain": [
       "tensor([[1., 2., 3.],\n",
       "        [4., 5., 6.]])"
      ]
     },
     "execution_count": 23,
     "metadata": {},
     "output_type": "execute_result"
    }
   ],
   "source": [
    "x4[0:2,:]"
   ]
  },
  {
   "cell_type": "code",
   "execution_count": 24,
   "metadata": {},
   "outputs": [
    {
     "data": {
      "text/plain": [
       "tensor([[62., 72., 80.],\n",
       "        [ 4.,  5.,  6.],\n",
       "        [ 7.,  8.,  9.]])"
      ]
     },
     "execution_count": 24,
     "metadata": {},
     "output_type": "execute_result"
    }
   ],
   "source": [
    "x4[0:1,:] = torch.Tensor([62,72,80])\n",
    "x4"
   ]
  },
  {
   "cell_type": "code",
   "execution_count": 25,
   "metadata": {},
   "outputs": [
    {
     "data": {
      "text/plain": [
       "tensor([[ 62.,  72.,  80.],\n",
       "        [200.,  78.,  89.],\n",
       "        [  7.,   8.,   9.]])"
      ]
     },
     "execution_count": 25,
     "metadata": {},
     "output_type": "execute_result"
    }
   ],
   "source": [
    "x4[1] = torch.Tensor([200,78,89])\n",
    "x4"
   ]
  },
  {
   "cell_type": "code",
   "execution_count": 28,
   "metadata": {},
   "outputs": [
    {
     "data": {
      "text/plain": [
       "(tensor([[62., 72., 80.]]),\n",
       " tensor([[200.,  78.,  89.]]),\n",
       " tensor([[7., 8., 9.]]))"
      ]
     },
     "execution_count": 28,
     "metadata": {},
     "output_type": "execute_result"
    }
   ],
   "source": [
    "x5 = torch.split(x4, split_size_or_sections=1,dim=0)\n",
    "x5"
   ]
  },
  {
   "cell_type": "code",
   "execution_count": 29,
   "metadata": {},
   "outputs": [
    {
     "data": {
      "text/plain": [
       "tensor([[ 62.,  72.,  80., 200.,  78.,  89.,   7.,   8.,   9.]])"
      ]
     },
     "execution_count": 29,
     "metadata": {},
     "output_type": "execute_result"
    }
   ],
   "source": [
    "torch.cat(x5, dim=1)"
   ]
  },
  {
   "cell_type": "code",
   "execution_count": 33,
   "metadata": {},
   "outputs": [
    {
     "data": {
      "text/plain": [
       "tensor([[[ 62.,  72.,  80.],\n",
       "         [200.,  78.,  89.],\n",
       "         [  7.,   8.,   9.]]])"
      ]
     },
     "execution_count": 33,
     "metadata": {},
     "output_type": "execute_result"
    }
   ],
   "source": [
    "tmp = torch.stack(x5, dim=1)\n",
    "tmp"
   ]
  },
  {
   "cell_type": "code",
   "execution_count": 35,
   "metadata": {},
   "outputs": [
    {
     "data": {
      "text/plain": [
       "torch.Size([1, 3, 3])"
      ]
     },
     "execution_count": 35,
     "metadata": {},
     "output_type": "execute_result"
    }
   ],
   "source": [
    "tmp.size()"
   ]
  },
  {
   "cell_type": "code",
   "execution_count": 36,
   "metadata": {},
   "outputs": [
    {
     "name": "stderr",
     "output_type": "stream",
     "text": [
      "C:\\Users\\90553\\Anaconda3\\lib\\site-packages\\ipykernel_launcher.py:3: UserWarning: masked_select received a mask with dtype torch.uint8, this behavior is now deprecated,please use a mask with dtype torch.bool instead. (Triggered internally at  ..\\aten\\src\\ATen\\native\\LegacyDefinitions.cpp:32.)\n",
      "  This is separate from the ipykernel package so we can avoid doing imports until\n"
     ]
    },
    {
     "data": {
      "text/plain": [
       "tensor([-0.4212, -0.1232,  3.5870, -1.8313, -1.2770])"
      ]
     },
     "execution_count": 36,
     "metadata": {},
     "output_type": "execute_result"
    }
   ],
   "source": [
    "x6 = torch.randn(3,3)\n",
    "mask = torch.ByteTensor([[1,0,0],[1,1,1],[0,1,0]])\n",
    "out = torch.masked_select(x6, mask)\n",
    "out "
   ]
  },
  {
   "cell_type": "code",
   "execution_count": 37,
   "metadata": {},
   "outputs": [
    {
     "data": {
      "text/plain": [
       "tensor([[[0.],\n",
       "         [0.]],\n",
       "\n",
       "        [[0.],\n",
       "         [0.]]])"
      ]
     },
     "execution_count": 37,
     "metadata": {},
     "output_type": "execute_result"
    }
   ],
   "source": [
    "x7 = torch.zeros(2,2,1)\n",
    "x7"
   ]
  },
  {
   "cell_type": "code",
   "execution_count": 38,
   "metadata": {},
   "outputs": [
    {
     "data": {
      "text/plain": [
       "tensor([[0., 0.],\n",
       "        [0., 0.]])"
      ]
     },
     "execution_count": 38,
     "metadata": {},
     "output_type": "execute_result"
    }
   ],
   "source": [
    "x7.view(2,2)"
   ]
  },
  {
   "cell_type": "code",
   "execution_count": 39,
   "metadata": {},
   "outputs": [
    {
     "data": {
      "text/plain": [
       "tensor([0., 0., 0., 0.])"
      ]
     },
     "execution_count": 39,
     "metadata": {},
     "output_type": "execute_result"
    }
   ],
   "source": [
    "x7.view(-1)"
   ]
  },
  {
   "cell_type": "code",
   "execution_count": 40,
   "metadata": {},
   "outputs": [
    {
     "data": {
      "text/plain": [
       "(tensor([[[0.],\n",
       "          [0.]],\n",
       " \n",
       "         [[0.],\n",
       "          [0.]]]), tensor([[0., 0.],\n",
       "         [0., 0.]]))"
      ]
     },
     "execution_count": 40,
     "metadata": {},
     "output_type": "execute_result"
    }
   ],
   "source": [
    "x8 = x7.squeeze()\n",
    "x7,x8"
   ]
  },
  {
   "cell_type": "code",
   "execution_count": 41,
   "metadata": {},
   "outputs": [
    {
     "data": {
      "text/plain": [
       "(tensor([[10., 20., 30.],\n",
       "         [40., 50., 60.]]), tensor([[1., 2., 3.],\n",
       "         [4., 5., 6.]]))"
      ]
     },
     "execution_count": 41,
     "metadata": {},
     "output_type": "execute_result"
    }
   ],
   "source": [
    "x9 = torch.FloatTensor([[10,20,30],[40,50,60]])\n",
    "x10 = torch.FloatTensor([[1,2,3],[4,5,6]])\n",
    "x9,x10"
   ]
  },
  {
   "cell_type": "code",
   "execution_count": 42,
   "metadata": {},
   "outputs": [
    {
     "data": {
      "text/plain": [
       "(tensor([[11., 22., 33.],\n",
       "         [44., 55., 66.]]), tensor([[11., 22., 33.],\n",
       "         [44., 55., 66.]]), tensor([[11., 22., 33.],\n",
       "         [44., 55., 66.]]))"
      ]
     },
     "execution_count": 42,
     "metadata": {},
     "output_type": "execute_result"
    }
   ],
   "source": [
    "x9 + x10, x9.add(x10), torch.add(x9,x10)"
   ]
  },
  {
   "cell_type": "code",
   "execution_count": 43,
   "metadata": {},
   "outputs": [
    {
     "data": {
      "text/plain": [
       "(tensor([[ -9., -18., -27.],\n",
       "         [-36., -45., -54.]]), tensor([[ 9., 18., 27.],\n",
       "         [36., 45., 54.]]))"
      ]
     },
     "execution_count": 43,
     "metadata": {},
     "output_type": "execute_result"
    }
   ],
   "source": [
    "x10.sub(x9), x9.sub(x10)"
   ]
  },
  {
   "cell_type": "code",
   "execution_count": 44,
   "metadata": {},
   "outputs": [
    {
     "data": {
      "text/plain": [
       "(tensor([[ 10.,  40.,  90.],\n",
       "         [160., 250., 360.]]), tensor([[ 10.,  40.,  90.],\n",
       "         [160., 250., 360.]]), tensor([[ 10.,  40.,  90.],\n",
       "         [160., 250., 360.]]))"
      ]
     },
     "execution_count": 44,
     "metadata": {},
     "output_type": "execute_result"
    }
   ],
   "source": [
    "x9*x10, x9.mul(x10), torch.mul(x9,x10)"
   ]
  },
  {
   "cell_type": "code",
   "execution_count": 45,
   "metadata": {},
   "outputs": [
    {
     "data": {
      "text/plain": [
       "(tensor([[ 100.,  400.,  900.],\n",
       "         [1600., 2500., 3600.]]), tensor([[ 100.,  400.,  900.],\n",
       "         [1600., 2500., 3600.]]), tensor([[ 100.,  400.,  900.],\n",
       "         [1600., 2500., 3600.]]))"
      ]
     },
     "execution_count": 45,
     "metadata": {},
     "output_type": "execute_result"
    }
   ],
   "source": [
    "x9.pow(2), torch.pow(x9,2), x9**2"
   ]
  },
  {
   "cell_type": "code",
   "execution_count": 46,
   "metadata": {},
   "outputs": [
    {
     "data": {
      "text/plain": [
       "tensor([[3.1623, 4.4721, 5.4772],\n",
       "        [6.3246, 7.0711, 7.7460]])"
      ]
     },
     "execution_count": 46,
     "metadata": {},
     "output_type": "execute_result"
    }
   ],
   "source": [
    "x9.sqrt()"
   ]
  },
  {
   "cell_type": "code",
   "execution_count": 47,
   "metadata": {},
   "outputs": [
    {
     "data": {
      "text/plain": [
       "(tensor([[0.0000, 0.6931, 1.0986],\n",
       "         [1.3863, 1.6094, 1.7918]]), tensor([[0.0000, 0.6931, 1.0986],\n",
       "         [1.3863, 1.6094, 1.7918]]))"
      ]
     },
     "execution_count": 47,
     "metadata": {},
     "output_type": "execute_result"
    }
   ],
   "source": [
    "x10.log(), torch.log(x10)"
   ]
  },
  {
   "cell_type": "code",
   "execution_count": 48,
   "metadata": {},
   "outputs": [
    {
     "data": {
      "text/plain": [
       "(tensor([[1., 2., 0.],\n",
       "         [1., 2., 0.]]), tensor([[ 3.3333,  6.6667, 10.0000],\n",
       "         [13.3333, 16.6667, 20.0000]]))"
      ]
     },
     "execution_count": 48,
     "metadata": {},
     "output_type": "execute_result"
    }
   ],
   "source": [
    "x9 % 3, x9 / 3"
   ]
  },
  {
   "cell_type": "code",
   "execution_count": 50,
   "metadata": {},
   "outputs": [
    {
     "data": {
      "text/plain": [
       "(tensor([[10., 20., 30.],\n",
       "         [40., 50., 60.]]), tensor([[1., 2., 3.],\n",
       "         [4., 5., 6.]]))"
      ]
     },
     "execution_count": 50,
     "metadata": {},
     "output_type": "execute_result"
    }
   ],
   "source": [
    "x9,x10"
   ]
  },
  {
   "cell_type": "code",
   "execution_count": 51,
   "metadata": {},
   "outputs": [
    {
     "data": {
      "text/plain": [
       "(tensor(210.), tensor(60.))"
      ]
     },
     "execution_count": 51,
     "metadata": {},
     "output_type": "execute_result"
    }
   ],
   "source": [
    "x9.sum(), x9.max()"
   ]
  },
  {
   "cell_type": "code",
   "execution_count": 52,
   "metadata": {},
   "outputs": [
    {
     "data": {
      "text/plain": [
       "(tensor(1.), torch.return_types.min(\n",
       " values=tensor([1., 2., 3.]),\n",
       " indices=tensor([0, 0, 0])), torch.return_types.min(\n",
       " values=tensor([1., 4.]),\n",
       " indices=tensor([0, 0])))"
      ]
     },
     "execution_count": 52,
     "metadata": {},
     "output_type": "execute_result"
    }
   ],
   "source": [
    "x10.min(), x10.min(0), x10.min(1)"
   ]
  },
  {
   "cell_type": "code",
   "execution_count": 53,
   "metadata": {},
   "outputs": [
    {
     "data": {
      "text/plain": [
       "torch.return_types.max(\n",
       "values=tensor([3., 6.]),\n",
       "indices=tensor([2, 2]))"
      ]
     },
     "execution_count": 53,
     "metadata": {},
     "output_type": "execute_result"
    }
   ],
   "source": [
    "x10.max(1)"
   ]
  },
  {
   "cell_type": "code",
   "execution_count": 54,
   "metadata": {},
   "outputs": [
    {
     "data": {
      "text/plain": [
       "(tensor([3., 6.]), tensor([2, 2]))"
      ]
     },
     "execution_count": 54,
     "metadata": {},
     "output_type": "execute_result"
    }
   ],
   "source": [
    "value, index = x10.max(1)\n",
    "value, index"
   ]
  },
  {
   "cell_type": "code",
   "execution_count": 55,
   "metadata": {},
   "outputs": [
    {
     "data": {
      "text/plain": [
       "(tensor([[-0.4791,  1.3790,  2.5286,  0.4107, -0.9880],\n",
       "         [-0.9081,  0.5423,  0.1103, -2.2590,  0.6067],\n",
       "         [-0.1383,  0.8310, -0.2477, -0.8029,  0.2366]]),\n",
       " tensor([[-0.5065,  0.0998, -0.6540,  0.7317, -1.4344],\n",
       "         [-0.5008,  0.1716, -0.1600,  0.2546,  0.1938],\n",
       "         [-2.5832,  0.8539,  1.2466,  0.5057,  0.9505],\n",
       "         [ 1.2966,  0.8738,  0.3434, -1.0703, -0.8743],\n",
       "         [-1.4648, -1.2629,  1.1220,  1.5663,  2.5581]]),\n",
       " tensor([[-1.1322, -0.0179,  0.1280],\n",
       "         [-0.5552, -0.4575, -1.9599],\n",
       "         [-1.1242, -1.5599,  1.4003],\n",
       "         [ 0.2963, -1.0901, -0.2380],\n",
       "         [ 0.6905,  0.4646, -0.7559]]))"
      ]
     },
     "execution_count": 55,
     "metadata": {},
     "output_type": "execute_result"
    }
   ],
   "source": [
    "x11 = torch.randn(3,5)\n",
    "x12 = torch.randn(5,5)\n",
    "x13 = torch.randn(5,3)\n",
    "x11, x12, x13"
   ]
  },
  {
   "cell_type": "code",
   "execution_count": 56,
   "metadata": {},
   "outputs": [
    {
     "data": {
      "text/plain": [
       "(tensor([[-4.9999,  3.9548,  2.2772, -0.7079,  0.4714],\n",
       "         [-3.9143, -2.6435,  0.5496,  2.8975,  5.0394],\n",
       "         [-1.0939, -1.0831, -0.3615,  1.2151,  1.4312]]),\n",
       " tensor([[-4.9999,  3.9548,  2.2772, -0.7079,  0.4714],\n",
       "         [-3.9143, -2.6435,  0.5496,  2.8975,  5.0394],\n",
       "         [-1.0939, -1.0831, -0.3615,  1.2151,  1.4312]]))"
      ]
     },
     "execution_count": 56,
     "metadata": {},
     "output_type": "execute_result"
    }
   ],
   "source": [
    "torch.mm(x11,x12), x11.mm(x12)"
   ]
  },
  {
   "cell_type": "code",
   "execution_count": 57,
   "metadata": {},
   "outputs": [
    {
     "data": {
      "text/plain": [
       "tensor([[ 1.0210, -4.2816, -5.3899],\n",
       "        [ 9.6202, -0.3951,  0.9506],\n",
       "        [ 3.5947,  0.4194,  0.1054]])"
      ]
     },
     "execution_count": 57,
     "metadata": {},
     "output_type": "execute_result"
    }
   ],
   "source": [
    "x11.mm(x12).mm(x13)"
   ]
  },
  {
   "cell_type": "code",
   "execution_count": 59,
   "metadata": {},
   "outputs": [
    {
     "data": {
      "text/plain": [
       "(tensor([[-2.0501,  0.6842, -0.8003, -0.3738],\n",
       "         [ 1.4904, -1.2968, -0.3243,  0.3105],\n",
       "         [-0.3423,  0.6976,  1.4117,  2.1331]]),\n",
       " tensor([-0.1602,  0.3615,  0.3725, -0.3054]))"
      ]
     },
     "execution_count": 59,
     "metadata": {},
     "output_type": "execute_result"
    }
   ],
   "source": [
    "x14 = torch.randn(3,4)\n",
    "v = torch.randn(4)\n",
    "x14, v"
   ]
  },
  {
   "cell_type": "code",
   "execution_count": 60,
   "metadata": {},
   "outputs": [
    {
     "data": {
      "text/plain": [
       "(tensor([ 0.3919, -0.9233,  0.1815]), tensor([ 0.3919, -0.9233,  0.1815]))"
      ]
     },
     "execution_count": 60,
     "metadata": {},
     "output_type": "execute_result"
    }
   ],
   "source": [
    "torch.mv(x14,v), x14.mv(v)"
   ]
  },
  {
   "cell_type": "code",
   "execution_count": 61,
   "metadata": {},
   "outputs": [
    {
     "data": {
      "text/plain": [
       "torch.Size([10, 3, 5])"
      ]
     },
     "execution_count": 61,
     "metadata": {},
     "output_type": "execute_result"
    }
   ],
   "source": [
    "x15 = torch.randn(10,3,4)\n",
    "x16 = torch.randn(10,4,5)\n",
    "\n",
    "torch.bmm(x15, x16).size()"
   ]
  },
  {
   "cell_type": "code",
   "execution_count": 62,
   "metadata": {},
   "outputs": [
    {
     "data": {
      "text/plain": [
       "tensor([[[ 1.7138, -0.4345,  1.1420, -3.3325, -1.2142],\n",
       "         [-2.0399, -1.2899,  0.7478,  1.4689, -1.2352],\n",
       "         [-0.3336,  0.5466,  1.0611, -0.8343, -0.3241]],\n",
       "\n",
       "        [[-1.1467,  1.1880,  1.2328,  0.6938, -1.2643],\n",
       "         [-2.9654, -5.4339,  2.0389, -1.4294,  0.9106],\n",
       "         [-1.1729,  1.0340,  0.6531,  0.7732, -2.1821]],\n",
       "\n",
       "        [[ 0.7773,  0.2123, -0.5464, -0.7696,  1.1562],\n",
       "         [ 0.2524,  1.9962, -0.8638,  1.9045,  0.0955],\n",
       "         [-2.2084, -3.0097,  1.8324,  0.0296, -1.2678]],\n",
       "\n",
       "        [[-0.3516, -2.9943,  2.2078, -1.1990,  1.2413],\n",
       "         [ 0.3316, -1.1093, -2.3101,  0.6280,  0.4232],\n",
       "         [ 0.4801,  0.1002,  0.5176, -0.3648,  0.2836]],\n",
       "\n",
       "        [[ 2.1923,  2.3400, -0.6794,  0.9830,  0.4800],\n",
       "         [ 2.4723,  1.4585,  2.8229,  2.6509,  0.5795],\n",
       "         [ 0.4222, -0.1089, -1.4181, -0.7412, -0.7366]],\n",
       "\n",
       "        [[ 0.7513,  0.2763,  0.5596,  1.1950,  0.4925],\n",
       "         [-6.9139, -2.2331, -0.4577, -3.1147, -2.8759],\n",
       "         [ 0.3033, -1.6810,  0.6195, -1.2632, -3.2206]],\n",
       "\n",
       "        [[ 1.5248, -1.1853,  1.9429,  0.8977,  3.4780],\n",
       "         [ 3.3773, -2.6400,  2.6160, -1.6536,  5.2291],\n",
       "         [-2.6582,  1.4696, -3.9706,  3.4406, -8.2823]],\n",
       "\n",
       "        [[-1.3194,  3.0375,  2.8376, -0.4654,  2.8388],\n",
       "         [ 1.1355,  1.0176,  1.1276, -0.1379, -4.0881],\n",
       "         [ 0.7923,  0.6707,  0.9536,  0.0828, -2.5222]],\n",
       "\n",
       "        [[ 1.5942,  0.2682, -1.0463,  0.9291,  0.4364],\n",
       "         [ 1.1004, -1.0484, -0.2311, -0.0730, -0.7285],\n",
       "         [ 3.8629, -5.1531,  1.0846, -1.6746, -6.4145]],\n",
       "\n",
       "        [[-0.7681, -0.1116, -0.8023,  0.7458,  0.2263],\n",
       "         [-0.7769, -0.0971,  0.5523,  1.4528, -0.5286],\n",
       "         [ 1.0518, -0.0568,  1.0199, -0.3721,  1.4791]]])"
      ]
     },
     "execution_count": 62,
     "metadata": {},
     "output_type": "execute_result"
    }
   ],
   "source": [
    "torch.bmm(x15, x16)"
   ]
  },
  {
   "cell_type": "code",
   "execution_count": 63,
   "metadata": {},
   "outputs": [
    {
     "data": {
      "text/plain": [
       "(tensor(1.6870), tensor([[-0.6147,  1.0675],\n",
       "         [-0.2336,  0.8837]]), tensor([[-1.1205,  1.0734],\n",
       "         [-1.1730, -0.4771]]))"
      ]
     },
     "execution_count": 63,
     "metadata": {},
     "output_type": "execute_result"
    }
   ],
   "source": [
    "x17 = torch.randn(2,2)\n",
    "x18 = torch.randn(2,2)\n",
    "torch.dot(x17.view(-1), x18.view(-1)), x17, x18"
   ]
  },
  {
   "cell_type": "code",
   "execution_count": null,
   "metadata": {},
   "outputs": [],
   "source": []
  }
 ],
 "metadata": {
  "kernelspec": {
   "display_name": "Python 3",
   "language": "python",
   "name": "python3"
  },
  "language_info": {
   "codemirror_mode": {
    "name": "ipython",
    "version": 3
   },
   "file_extension": ".py",
   "mimetype": "text/x-python",
   "name": "python",
   "nbconvert_exporter": "python",
   "pygments_lexer": "ipython3",
   "version": "3.7.3"
  }
 },
 "nbformat": 4,
 "nbformat_minor": 2
}
